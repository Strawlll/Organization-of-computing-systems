{
 "cells": [
  {
   "cell_type": "code",
   "execution_count": 60,
   "id": "959f39fb",
   "metadata": {},
   "outputs": [
    {
     "name": "stdout",
     "output_type": "stream",
     "text": [
      "Сколько процессов вы хотите указать: 6\n",
      "Введите CPU burst для 0 процесса: 6\n",
      "Введите CPU burst для 1 процесса: 9\n",
      "Введите CPU burst для 2 процесса: 3\n",
      "Введите CPU burst для 3 процесса: 12\n",
      "Введите CPU burst для 4 процесса: 10\n",
      "Введите CPU burst для 5 процесса: 7\n",
      "Введите квант времени: 4\n",
      "p0 И И И И Г Г Г Г Г Г Г Г Г Г Г Г Г Г Г Г Г Г Г И И \n",
      "p1 Г Г Г Г И И И И Г Г Г Г Г Г Г Г Г Г Г Г Г Г Г Г Г И И И И Г Г Г Г Г Г Г Г Г Г Г И \n",
      "p2 Г Г Г Г Г Г Г Г И И И \n",
      "p3 Г Г Г Г Г Г Г Г Г Г Г И И И И Г Г Г Г Г Г Г Г Г Г Г Г Г Г И И И И Г Г Г Г Г Г Г Г И И И И \n",
      "p4 Г Г Г Г Г Г Г Г Г Г Г Г Г Г Г И И И И Г Г Г Г Г Г Г Г Г Г Г Г Г Г И И И И Г Г Г Г Г Г Г Г И И \n",
      "p5 Г Г Г Г Г Г Г Г Г Г Г Г Г Г Г Г Г Г Г И И И И Г Г Г Г Г Г Г Г Г Г Г Г Г Г И И И \n",
      "Среднее время ожидания = 27.0\n",
      "Среднее полное время выполнения = 34.833333333333336\n"
     ]
    }
   ],
   "source": [
    "while True:\n",
    "    try:\n",
    "        n = int(input('Сколько процессов вы хотите указать: '))\n",
    "        assert n>0, 'Число процессов <= 0'\n",
    "        a = []\n",
    "        b = {}\n",
    "        for i in range(n):\n",
    "            v = int(input(f'Введите CPU burst для {i} процесса: '))\n",
    "            assert v>0, 'CPU burst <= 0'\n",
    "            a.append(v)\n",
    "            b[i] = []\n",
    "        summ = sum(a)\n",
    "        curr = 0 \n",
    "        count = 0\n",
    "        k = int(input('Введите квант времени: '))\n",
    "        if k <= 0:\n",
    "            assert k>0, 'Квант <= 0'\n",
    "        for i in range(summ):\n",
    "            count = 0\n",
    "            while count < k:\n",
    "                if a[curr] != 0:\n",
    "                    b[curr].append('И')\n",
    "                    a[curr] -= 1\n",
    "                    for j in range(n):\n",
    "                        if j != curr and a[j] != 0:\n",
    "                            b[j].append('Г')\n",
    "                    count+=1\n",
    "                elif curr == (n-1):\n",
    "                    curr = 0\n",
    "                    count = k\n",
    "                    break\n",
    "                else:\n",
    "                    curr += 1\n",
    "                    count = k\n",
    "                    break\n",
    "            else:\n",
    "                if curr == (n-1):\n",
    "                    curr = 0\n",
    "                else:\n",
    "                    curr += 1\n",
    "        for i in range(n):\n",
    "            print(f\"p{i} \", end='')\n",
    "            for j in b[i]:\n",
    "                print(f\"{j} \", end='')\n",
    "            print()\n",
    "        \n",
    "        kolvo = 0\n",
    "        dlina = 0\n",
    "        for elem in b.values():\n",
    "            kolvo += elem.count('Г')\n",
    "            dlina += len(elem)\n",
    "        print(f'Среднее время ожидания = {kolvo/n}')\n",
    "        print(f'Среднее полное время выполнения = {dlina/n}')\n",
    "        break\n",
    "        \n",
    "    except ValueError:\n",
    "        print('Неверный ввод')\n",
    "    except Exception as e:\n",
    "        print(e)"
   ]
  },
  {
   "cell_type": "markdown",
   "id": "ff19b1b1",
   "metadata": {},
   "source": []
  }
 ],
 "metadata": {
  "kernelspec": {
   "display_name": "Python 3 (ipykernel)",
   "language": "python",
   "name": "python3"
  },
  "language_info": {
   "codemirror_mode": {
    "name": "ipython",
    "version": 3
   },
   "file_extension": ".py",
   "mimetype": "text/x-python",
   "name": "python",
   "nbconvert_exporter": "python",
   "pygments_lexer": "ipython3",
   "version": "3.10.0"
  }
 },
 "nbformat": 4,
 "nbformat_minor": 5
}
