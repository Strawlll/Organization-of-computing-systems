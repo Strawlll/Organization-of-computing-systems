{
 "cells": [
  {
   "cell_type": "code",
   "execution_count": 7,
   "id": "e1827e35",
   "metadata": {},
   "outputs": [
    {
     "name": "stdout",
     "output_type": "stream",
     "text": [
      "Сколько процессов вы хотите указать: 5\n",
      "Введите CPU burst для 0 процесса: 4\n",
      "Введите CPU burst для 1 процесса: 3\n",
      "Введите CPU burst для 2 процесса: 2\n",
      "Введите CPU burst для 3 процесса: 1\n",
      "Введите CPU burst для 4 процесса: 1\n",
      "P0 И И И И \n",
      "P1 Г Г Г Г И И И \n",
      "P2 Г Г Г Г Г Г Г И И \n",
      "P3 Г Г Г Г Г Г Г Г Г И \n",
      "P4 Г Г Г Г Г Г Г Г Г Г И \n"
     ]
    }
   ],
   "source": [
    "while True:\n",
    "    try:\n",
    "        n = int(input('Сколько процессов вы хотите указать: '))\n",
    "        a = []\n",
    "        for i in range(n):\n",
    "            a.append(int(input(f'Введите CPU burst для {i} процесса: ')))\n",
    "        for i in range(len(a)):\n",
    "            print(f\"P{i} \", end='')\n",
    "            for j in range(i):\n",
    "                b = ('Г '*a[j]).split()\n",
    "                for k in b:\n",
    "                    print(k, end=' ')\n",
    "            b = ('И ' * a[i]).split()\n",
    "            for j in b:\n",
    "                print(j, end = ' ')\n",
    "            print()\n",
    "        break\n",
    "    except ValueError:\n",
    "        print('Неверный ввод')\n",
    "    except Exception as e:\n",
    "        print(e)"
   ]
  },
  {
   "cell_type": "markdown",
   "id": "0da85eed",
   "metadata": {},
   "source": []
  }
 ],
 "metadata": {
  "kernelspec": {
   "display_name": "Python 3 (ipykernel)",
   "language": "python",
   "name": "python3"
  },
  "language_info": {
   "codemirror_mode": {
    "name": "ipython",
    "version": 3
   },
   "file_extension": ".py",
   "mimetype": "text/x-python",
   "name": "python",
   "nbconvert_exporter": "python",
   "pygments_lexer": "ipython3",
   "version": "3.10.0"
  }
 },
 "nbformat": 4,
 "nbformat_minor": 5
}
