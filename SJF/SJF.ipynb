{
 "cells": [
  {
   "cell_type": "code",
   "execution_count": 4,
   "id": "e31dfde5",
   "metadata": {},
   "outputs": [
    {
     "name": "stdout",
     "output_type": "stream",
     "text": [
      "Введите 0 - невытесняющий, 1 - вытесняющий: 0\n",
      "Введите кол-во процессов: 3\n",
      "Введите время выполнения для p0 процесса: 3\n",
      "Введите время выполнения для p1 процесса: 4\n",
      "Введите время выполнения для p2 процесса: 1\n",
      "p0 Г И И И \n",
      "p1 Г Г Г Г И И И И \n",
      "p2 И \n",
      "Среднее время ожидания равно 1.6666666666666667\n"
     ]
    }
   ],
   "source": [
    "time_ord = []\n",
    "time_cont = []\n",
    "dic = {}\n",
    "s = []\n",
    "while True:\n",
    "    try: \n",
    "        choice = int(input('Введите 0 - невытесняющий, 1 - вытесняющий: '))\n",
    "        assert choice == 0 or choice == 1, 'Вы сделали неправильный выбор :('\n",
    "        n = int(input('Введите кол-во процессов: '))\n",
    "        assert n > 0, 'Кол-во процессов меньше 1'\n",
    "        for i in range(n):\n",
    "            if choice == 1:\n",
    "                s = list(map(int, input(f\"Введите время появления в очереди и продолжительность для p{i}: \").split()))\n",
    "\n",
    "            elif choice == 0:\n",
    "                s.append(0)\n",
    "                s.append(int(input(f'Введите время выполнения для p{i} процесса: ')))\n",
    "            assert s[0] >= 0, 'Время в очереди < 0'\n",
    "            time_ord.append(s[0])\n",
    "            assert s[1] > 0, 'Время выполнения <= 0'\n",
    "            time_cont.append(s[1])\n",
    "            dic[i] = []\n",
    "            s = []\n",
    "        a = []\n",
    "        k = 0\n",
    "        counter = 0\n",
    "        while sum(time_cont)!=0:\n",
    "            minn = 100000000000\n",
    "            min_ind = -1\n",
    "            for i in range(n):\n",
    "                if time_cont[i] < minn and time_ord[i] <= k and time_cont[i] != 0:\n",
    "                    minn = time_cont[i]\n",
    "                    min_ind = i\n",
    "            if min_ind != -1:\n",
    "                dic[min_ind].append('И')\n",
    "                time_cont[min_ind] -= 1\n",
    "            for j in range(n):\n",
    "                if j != min_ind and time_ord[j] <= k and time_cont[j] != 0:\n",
    "                    dic[j].append('Г')\n",
    "                    counter += 1\n",
    "                elif time_cont[j] != 0 and time_ord[j] > k:\n",
    "                    dic[j].append('-')\n",
    "            k+=1\n",
    "        for i in range(n):\n",
    "            print(f\"p{i}\", end=' ')\n",
    "            for j in dic[i]:\n",
    "                print(j, end=' ')\n",
    "            print()\n",
    "\n",
    "        print(f'Среднее время ожидания равно {counter/n}')\n",
    "        break\n",
    "    except AssertionError as e:\n",
    "        print(e)\n",
    "    except KeyboardInterrupt:\n",
    "        print('Программа выдержала!')\n",
    "        break\n",
    "    except:\n",
    "        print('Что-то намудрили')"
   ]
  },
  {
   "cell_type": "code",
   "execution_count": null,
   "id": "2e7a515c",
   "metadata": {},
   "outputs": [],
   "source": []
  },
  {
   "cell_type": "code",
   "execution_count": null,
   "id": "1cfc4ace",
   "metadata": {},
   "outputs": [],
   "source": []
  }
 ],
 "metadata": {
  "kernelspec": {
   "display_name": "Python 3 (ipykernel)",
   "language": "python",
   "name": "python3"
  },
  "language_info": {
   "codemirror_mode": {
    "name": "ipython",
    "version": 3
   },
   "file_extension": ".py",
   "mimetype": "text/x-python",
   "name": "python",
   "nbconvert_exporter": "python",
   "pygments_lexer": "ipython3",
   "version": "3.10.0"
  }
 },
 "nbformat": 4,
 "nbformat_minor": 5
}
