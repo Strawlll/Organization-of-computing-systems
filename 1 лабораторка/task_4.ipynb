{
 "cells": [
  {
   "cell_type": "markdown",
   "id": "0c945b87",
   "metadata": {},
   "source": [
    "Задание №4. Реализовать программное средство для представления IP адресов с десятичного и двоичного кодирования. В качестве входных данных задается десятичное представление IP адреса, программное средство выдает двоичное представление или пользователь может ввести двоичное представление IPадреса и получить десятичное представление. "
   ]
  },
  {
   "cell_type": "code",
   "execution_count": 43,
   "id": "87db75ef",
   "metadata": {},
   "outputs": [
    {
     "name": "stdout",
     "output_type": "stream",
     "text": [
      "Введите IP адрес: 11111111.11111111.11111111.10000000\n",
      "Ответ: 255.255.255.128\n"
     ]
    }
   ],
   "source": [
    "try:\n",
    "    s = list(map(int,input('Введите IP адрес: ').split('.'))) # Ввод нашего ip адреса и преобразование строки в список\n",
    "    f = 0\n",
    "    if len(str(s[0])) < 8:\n",
    "        typ = 0\n",
    "    else:\n",
    "        typ = 1\n",
    "    if typ == 0:\n",
    "        for i in range(len(s)):\n",
    "            s[i] = bin(s[i])[2:]\n",
    "            s[i] = '0'*(8-len(s[i])) + s[i]\n",
    "            if len(s[i]) > 8:\n",
    "                f = 1\n",
    "    else:\n",
    "        for i in range(len(s)):\n",
    "            s[i] = str(int(str(s[i]), 2))\n",
    "            if int(s[i]) > 255 or int(s[i]) < 0:\n",
    "                f = 1\n",
    "    assert len(s) == 4 and f == 0, 'Неверно введён IP адрес'\n",
    "    print('Ответ: ' + '.'.join(s))\n",
    "except AssertionError as a:\n",
    "    print(a)\n",
    "except Exception as e:\n",
    "    print('Неверный ввод')"
   ]
  },
  {
   "cell_type": "code",
   "execution_count": null,
   "id": "867cd974",
   "metadata": {},
   "outputs": [],
   "source": []
  }
 ],
 "metadata": {
  "kernelspec": {
   "display_name": "Python 3 (ipykernel)",
   "language": "python",
   "name": "python3"
  },
  "language_info": {
   "codemirror_mode": {
    "name": "ipython",
    "version": 3
   },
   "file_extension": ".py",
   "mimetype": "text/x-python",
   "name": "python",
   "nbconvert_exporter": "python",
   "pygments_lexer": "ipython3",
   "version": "3.10.0"
  }
 },
 "nbformat": 4,
 "nbformat_minor": 5
}
