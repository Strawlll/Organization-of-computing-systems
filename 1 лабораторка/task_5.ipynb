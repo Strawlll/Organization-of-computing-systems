{
 "cells": [
  {
   "cell_type": "markdown",
   "id": "7ea39b84",
   "metadata": {},
   "source": [
    "Задание №5. Реализовать программное средство, способное определять класс сети, \n",
    "начальный и конечный адрес и маску подсети, на основании заданного IP\n",
    "адреса."
   ]
  },
  {
   "cell_type": "code",
   "execution_count": 7,
   "id": "94110adb",
   "metadata": {},
   "outputs": [
    {
     "name": "stdout",
     "output_type": "stream",
     "text": [
      "Введите IP адрес: 128.0.0.1\n",
      "Класс B\n",
      "Начальный адрес 128.0.0.0\n",
      "Конечный адрес 191.255.255.255\n",
      "Маска подсети 255.255.0.0\n"
     ]
    }
   ],
   "source": [
    "try:\n",
    "    s = list(map(int, input(\"Введите IP адрес: \").split('.')))\n",
    "    if s[0] > 0 and s[0] <= 127:\n",
    "        print('Класс A')\n",
    "        print('Начальный адрес ' + '0.0.0.0')\n",
    "        print('Конечный адрес ' + '127.255.255.255')\n",
    "        print('Маска подсети ' + '255.0.0.0')\n",
    "    elif s[0]>127 and s[0] <= 191:\n",
    "        print('Класс B')\n",
    "        print('Начальный адрес ' + '128.0.0.0')\n",
    "        print('Конечный адрес ' + '191.255.255.255')\n",
    "        print('Маска подсети ' + '255.255.0.0')\n",
    "    elif s[0]>191 and s[0] <= 223:\n",
    "        print('Класс C')\n",
    "        print('Начальный адрес ' + '192.0.0.0')\n",
    "        print('Конечный адрес ' + '223.255.255.255')\n",
    "        print('Маска подсети ' + '255.255.255.0')\n",
    "    else:\n",
    "        print('Устаревший класс')\n",
    "except Exception:\n",
    "    print('Неверный ввод')"
   ]
  },
  {
   "cell_type": "code",
   "execution_count": null,
   "id": "ec5d5a6c",
   "metadata": {},
   "outputs": [],
   "source": []
  }
 ],
 "metadata": {
  "kernelspec": {
   "display_name": "Python 3 (ipykernel)",
   "language": "python",
   "name": "python3"
  },
  "language_info": {
   "codemirror_mode": {
    "name": "ipython",
    "version": 3
   },
   "file_extension": ".py",
   "mimetype": "text/x-python",
   "name": "python",
   "nbconvert_exporter": "python",
   "pygments_lexer": "ipython3",
   "version": "3.10.0"
  }
 },
 "nbformat": 4,
 "nbformat_minor": 5
}
